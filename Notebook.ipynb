{
  "cells": [
    {
      "cell_type": "markdown",
      "metadata": {
        "id": "ZRdqvGob-aCS"
      },
      "source": [
        "# Post-Quantum Encrypted File Sharing System"
      ]
    },
    {
      "cell_type": "markdown",
      "metadata": {
        "id": "gqQFENbI7zjl"
      },
      "source": [
        "## Introduction\n",
        "With the advent of quantum computing, traditional encryption algorithms such as RSA and ECC are at risk of being broken using quantum algorithms like Shor’s algorithm. To future-proof sensitive data, Post-Quantum Cryptography (PQC) offers cryptographic schemes that remain secure against quantum attacks. One such approach is Lattice-Based Cryptography, particularly Ring Learning With Errors (Ring-LWE), which provides robust security and efficiency.\n",
        "\n",
        "## Objective\n",
        "The objective of this project is to develop a secure file encryption tool leveraging Ring-LWE encryption, ensuring resistance against both classical and quantum attacks. The system will:\n",
        "\n",
        "- Generate Post-Quantum Keys using the Ring-LWE problem.\n",
        "- Encrypt Files Securely by computing a shared secret using the generated keys.\n",
        "- Decrypt Files Correctly by reconstructing the shared secret and recovering the original data.\n",
        "- Enable Secure Key Management for safe storage and retrieval of encryption keys.\n",
        "\n",
        "This project serves as a real-world implementation of post-quantum cryptographic techniques, contributing to research in quantum-resistant encryption. It can be extended to develop secure cloud storage solutions, encrypted messaging applications, or quantum-safe communication protocols.\n",
        "\n",
        "## Future Scope\n",
        "- Integration with Digital Signatures to verify data integrity and authenticity.\n",
        "- Implementation of Key Exchange Protocols for secure multi-user communication.\n",
        "- Optimizations for Performance to handle large files efficiently."
      ]
    },
    {
      "cell_type": "markdown",
      "metadata": {
        "id": "fYPDvMWr8pc6"
      },
      "source": [
        "### Post-Quantum Cryptography (PQC)\n",
        "Post-Quantum Cryptography refers to cryptographic algorithms that are secure against attacks by quantum computers. Classical cryptographic schemes like RSA, ECC, and Diffie-Hellman rely on mathematical problems (such as integer factorization and discrete logarithms) that can be efficiently solved using quantum algorithms like Shor’s Algorithm. To ensure long-term security, researchers are developing new encryption methods based on problems that even quantum computers cannot easily solve."
      ]
    },
    {
      "cell_type": "markdown",
      "metadata": {
        "id": "3Vi4ugw085sl"
      },
      "source": [
        "### Lattice-Based Cryptography\n",
        "Lattice-based cryptography is one of the most promising areas in PQC. It is based on the hardness of problems related to lattices, which are grid-like mathematical structures in multidimensional space. The difficulty of solving problems like the Shortest Vector Problem (SVP) and the Learning With Errors (LWE) problem makes lattice-based cryptography highly resistant to attacks, even from quantum computers.\n",
        "\n",
        "#### Learning With Errors (LWE) and Ring-LWE\n",
        "- **LWE:** The Learning With Errors problem is a mathematical problem that involves solving a system of linear equations where small errors (noise) are added. Finding the solution is computationally hard, making it an excellent foundation for encryption schemes.\n",
        "- **Ring-LWE:** A more efficient variant of LWE that works within a structured algebraic framework (rings), improving performance while maintaining security. It is used in real-world post-quantum encryption schemes like Kyber and NTRUEncrypt."
      ]
    },
    {
      "cell_type": "code",
      "execution_count": null,
      "metadata": {
        "colab": {
          "base_uri": "https://localhost:8080/"
        },
        "id": "OMpdXHgaayNG",
        "outputId": "357b05e1-766c-4d2f-fbb6-19202438a134"
      },
      "outputs": [
        {
          "name": "stdout",
          "output_type": "stream",
          "text": [
            "Requirement already satisfied: pycryptodome in /usr/local/lib/python3.11/dist-packages (3.22.0)\n",
            "Requirement already satisfied: kyber_py in /usr/local/lib/python3.11/dist-packages (1.0.1)\n"
          ]
        }
      ],
      "source": [
        "!pip install pycryptodome kyber_py"
      ]
    },
    {
      "cell_type": "markdown",
      "metadata": {
        "id": "SAjKgZMBdYg1"
      },
      "source": [
        "## Working\n",
        "\n",
        "1. Generate Kyber-512 keys.\n",
        "\n",
        "2. Perform Key Encapsulation Mechanism (KEM) using Kyber-512.\n",
        "\n",
        "3. Encrypt the file using AES-256.\n",
        "\n",
        "4. Decrypt the file using AES-256.\n",
        "\n",
        "5. Compare the original and decrypted file to verify correctness.\n",
        "\n",
        "6. Display all intermediate steps and outputs for clarity."
      ]
    },
    {
      "cell_type": "code",
      "execution_count": null,
      "metadata": {
        "colab": {
          "base_uri": "https://localhost:8080/"
        },
        "id": "PWhx57jQdWxh",
        "outputId": "9347afc8-72aa-4a78-a1b6-42a31110bb46"
      },
      "outputs": [
        {
          "name": "stdout",
          "output_type": "stream",
          "text": [
            "Enter the file path to encrypt & decrypt: /content/secret.txt\n",
            "\n",
            "Generating Kyber-512 Key Pair\n",
            "Public Key Generated:  b2d6085fa43817074408a8050c45cd904b4f4aac91b9d1b20b317c6ae8052773 ...\n",
            "Secret Key Generated:  7d9baf42e1c25b10aa36fa9cc85b4126808b050322b1f616cec519c24954a351 ...\n",
            "\n",
            "Performing Key Encapsulation\n",
            "Shared Secret Encapsulated:  e225401a472deec8793f962a71fbf21908c9177a89af059da6a2bda6056d1959 ...\n",
            "Ciphertext (Encrypted Key):  ba567ba90f56d488e8b450fb20afee21bd71beac31b587f19faee7516eb4c3e4 ...\n",
            "\n",
            "Decapsulating the Shared Secret\n",
            "Recovered Shared Secret:  e225401a472deec8793f962a71fbf21908c9177a89af059da6a2bda6056d1959 ...\n",
            "\n",
            "AES-256 Encryption Key (SHA-256 Hash):  cc2c33f3415e5eb8b47f630a4797e90f4b3f022fd4ee7dbfdfd1f429f8406a22 \n",
            "\n",
            "Encrypting the File using AES-256\n",
            "File Encrypted Successfully. Encrypted File Path:  /content/secret.txt.enc \n",
            "\n",
            "Decrypting the Encrypted File\n",
            "File Decryption Completed. Decrypted File Path:  /content/secret.txt_decrypted \n",
            "\n",
            "Verifying File Integrity\n",
            "Verification Successful: The decrypted file matches the original.\n",
            "\n"
          ]
        }
      ],
      "source": [
        "import os\n",
        "import hashlib\n",
        "from Crypto.Cipher import AES\n",
        "from Crypto.Util.Padding import pad, unpad\n",
        "from kyber_py.kyber import Kyber512\n",
        "\n",
        "def generate_kyber_keys():\n",
        "    print(\"\\nGenerating Kyber-512 Key Pair\")\n",
        "    public_key, secret_key = Kyber512.keygen()\n",
        "    print(\"Public Key Generated: \", public_key.hex()[:64], \"...\")\n",
        "    print(\"Secret Key Generated: \", secret_key.hex()[:64], \"...\\n\")\n",
        "    return public_key, secret_key\n",
        "\n",
        "def key_encapsulation(public_key):\n",
        "    print(\"Performing Key Encapsulation\")\n",
        "    shared_secret, ciphertext = Kyber512.encaps(public_key)\n",
        "    print(\"Shared Secret Encapsulated: \", shared_secret.hex()[:64], \"...\")\n",
        "    print(\"Ciphertext (Encrypted Key): \", ciphertext.hex()[:64], \"...\\n\")\n",
        "    return shared_secret, ciphertext\n",
        "\n",
        "def key_decapsulation(secret_key, ciphertext):\n",
        "    print(\"Decapsulating the Shared Secret\")\n",
        "    recovered_secret = Kyber512.decaps(secret_key, ciphertext)\n",
        "    print(\"Recovered Shared Secret: \", recovered_secret.hex()[:64], \"...\\n\")\n",
        "    return recovered_secret\n",
        "\n",
        "def encrypt_file(file_path, key):\n",
        "    print(\"Encrypting the File using AES-256\")\n",
        "    cipher = AES.new(key, AES.MODE_CBC)\n",
        "\n",
        "    with open(file_path, 'rb') as file:\n",
        "        data = file.read()\n",
        "\n",
        "    encrypted_data = cipher.encrypt(pad(data, AES.block_size))\n",
        "    enc_file_path = file_path + \".enc\"\n",
        "\n",
        "    with open(enc_file_path, 'wb') as enc_file:\n",
        "        enc_file.write(cipher.iv)  # Store Initialization Vector (IV) at the beginning\n",
        "        enc_file.write(encrypted_data)\n",
        "\n",
        "    print(\"File Encrypted Successfully. Encrypted File Path: \", enc_file_path, \"\\n\")\n",
        "    return enc_file_path\n",
        "\n",
        "def decrypt_file(file_path, key):\n",
        "    print(\"Decrypting the Encrypted File\")\n",
        "\n",
        "    with open(file_path, 'rb') as enc_file:\n",
        "        iv = enc_file.read(16)  # Read IV from the file\n",
        "        encrypted_data = enc_file.read()\n",
        "\n",
        "    cipher = AES.new(key, AES.MODE_CBC, iv=iv)\n",
        "    decrypted_data = unpad(cipher.decrypt(encrypted_data), AES.block_size)\n",
        "\n",
        "    decrypted_file_path = file_path.replace(\".enc\", \"_decrypted\")\n",
        "    with open(decrypted_file_path, 'wb') as dec_file:\n",
        "        dec_file.write(decrypted_data)\n",
        "\n",
        "    print(\"File Decryption Completed. Decrypted File Path: \", decrypted_file_path, \"\\n\")\n",
        "    return decrypted_file_path\n",
        "\n",
        "def compare_files(file1, file2):\n",
        "    print(\"Verifying File Integrity\")\n",
        "\n",
        "    with open(file1, 'rb') as f1, open(file2, 'rb') as f2:\n",
        "        original_data = f1.read()\n",
        "        decrypted_data = f2.read()\n",
        "\n",
        "    if original_data == decrypted_data:\n",
        "        print(\"Verification Successful: The decrypted file matches the original.\\n\")\n",
        "        return True\n",
        "    else:\n",
        "        print(\"Verification Failed: The decrypted file does not match the original.\\n\")\n",
        "        return False\n",
        "\n",
        "def main():\n",
        "    # Get file path from user\n",
        "    file_path = input(\"Enter the file path to encrypt & decrypt: \")\n",
        "\n",
        "    if not os.path.exists(file_path):\n",
        "        print(\"Error: The specified file does not exist.\")\n",
        "        return\n",
        "\n",
        "    # Step 1: Generate Kyber-512 Key Pair\n",
        "    public_key, secret_key = generate_kyber_keys()\n",
        "\n",
        "    # Step 2: Perform Key Encapsulation (Encrypts shared secret)\n",
        "    shared_secret, ciphertext = key_encapsulation(public_key)\n",
        "\n",
        "    # Step 3: Perform Key Decapsulation (Decrypts shared secret)\n",
        "    recovered_secret = key_decapsulation(secret_key, ciphertext)\n",
        "\n",
        "    # Verify if the shared secrets match\n",
        "    assert shared_secret == recovered_secret, \"Key Exchange Failed. Shared secrets do not match.\"\n",
        "\n",
        "    # Extract AES Key from the shared secret\n",
        "    aes_key = shared_secret[:32]  # First 32 bytes used for AES-256\n",
        "    aes_key_hash = hashlib.sha256(aes_key).hexdigest()  # Hash for display\n",
        "    print(\"AES-256 Encryption Key (SHA-256 Hash): \", aes_key_hash, \"\\n\")\n",
        "\n",
        "    # Step 4: Encrypt the File\n",
        "    encrypted_file = encrypt_file(file_path, aes_key)\n",
        "\n",
        "    # Step 5: Decrypt the File\n",
        "    decrypted_file = decrypt_file(encrypted_file, aes_key)\n",
        "\n",
        "    # Step 6: Compare and Verify File Integrity\n",
        "    compare_files(file_path, decrypted_file)\n",
        "\n",
        "if __name__ == \"__main__\":\n",
        "    main()"
      ]
    }
  ],
  "metadata": {
    "colab": {
      "provenance": []
    },
    "kernelspec": {
      "display_name": "Python 3",
      "name": "python3"
    },
    "language_info": {
      "name": "python"
    }
  },
  "nbformat": 4,
  "nbformat_minor": 0
}
